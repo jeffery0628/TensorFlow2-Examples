{
 "cells": [
  {
   "cell_type": "code",
   "execution_count": 3,
   "metadata": {
    "colab": {
     "base_uri": "https://localhost:8080/",
     "height": 35
    },
    "colab_type": "code",
    "id": "3gGC8SVb2JXS",
    "outputId": "923be579-ae4e-4921-dd50-ee9970aa4c5a"
   },
   "outputs": [],
   "source": [
    "# !pip install -q tensorflow-gpu==2.0.0-alpha0\n",
    "# print(tf.__version__)"
   ]
  },
  {
   "cell_type": "code",
   "execution_count": 9,
   "metadata": {
    "colab": {
     "base_uri": "https://localhost:8080/",
     "height": 264
    },
    "colab_type": "code",
    "id": "SwZgecHCr5R-",
    "outputId": "4c7f1dcd-8a44-4d84-9d7e-0c77a4077659"
   },
   "outputs": [
    {
     "name": "stderr",
     "output_type": "stream",
     "text": [
      "W0403 13:03:26.775506 21652 image.py:648] Clipping input data to the valid range for imshow with RGB data ([0..1] for floats or [0..255] for integers).\n"
     ]
    },
    {
     "data": {
      "image/png": "[encoded data removed]",
      "text/plain": [
       "<Figure size 216x216 with 1 Axes>"
      ]
     },
     "metadata": {
      "needs_background": "light"
     },
     "output_type": "display_data"
    }
   ],
   "source": [
    "import tensorflow as tf\n",
    "from tensorflow.keras import datasets, layers, models\n",
    "from datetime import datetime\n",
    "import matplotlib.pyplot as plt\n",
    "import os\n",
    "import numpy as np\n",
    "# tf.compat.v1.enable_eager_execution() \n",
    "# tf.compat.v1.disable_eager_execution()\n",
    "keras = keras\n",
    "\n",
    "# | CONSTANTS\n",
    "EPOCHS = 1\n",
    "CLASSES = 10\n",
    "TENSORBOARD = False\n",
    "BATCH_SIZE = 32\n",
    "FREEZE_NR_LAYERS = False # set to False to freeze all layers\n",
    "IMG_SHAPE = (96, 96)\n",
    "SHUFFLE_BUFFER_SIZE = 1000\n",
    "TENSORBOARD = False\n",
    "CHECKPOINTS = False\n",
    "\n",
    "# | Helper Functions\n",
    "def image_preprocessing(image, label):\n",
    "  image = tf.cast(image, tf.float32)\n",
    "  image = image/127.5 - 1 # normalization to bring values to range [-1.0, 1.0]\n",
    "  image = tf.expand_dims(image, -1) # (28,28) -> (28,28,1)\n",
    "  image = tf.image.resize(image, IMG_SHAPE)\n",
    "  image = tf.image.grayscale_to_rgb(image)\n",
    "  \n",
    "  return image, label\n",
    "\n",
    "# | Load dataset\n",
    "(train_images, train_labels), (test_images, test_labels) = datasets.mnist.load_data()\n",
    "\n",
    "# | Set up Data Pipeline / Convert to Tensorflow tf.data.Dataset\n",
    "train_data = (train_images, train_labels)\n",
    "train_data = tf.data.Dataset.from_tensor_slices(train_data)\n",
    "train_data = train_data.map(image_preprocessing)\n",
    "\n",
    "test_data = (test_images, test_labels)\n",
    "test_data = tf.data.Dataset.from_tensor_slices(test_data)\n",
    "test_data = test_data.map(image_preprocessing)\n",
    "\n",
    "train_batches = train_data.shuffle(SHUFFLE_BUFFER_SIZE).batch(BATCH_SIZE)\n",
    "train_batches = train_batches.repeat(EPOCHS)\n",
    "test_batches = test_data.batch(BATCH_SIZE)\n",
    "test_batches = test_batches.repeat(EPOCHS)\n",
    "\n",
    "#train_iterator = train_batches.make_one_shot_iterator()\n",
    "#test_iterator = test_batches.make_one_shot_iterator()\n",
    "\n",
    "for image, label in train_data.take(1):\n",
    "  plt.figure(figsize=(3,3))\n",
    "  plt.imshow(image+1)\n",
    "  plt.title(label)"
   ]
  },
  {
   "cell_type": "code",
   "execution_count": 10,
   "metadata": {
    "colab": {
     "base_uri": "https://localhost:8080/",
     "height": 277
    },
    "colab_type": "code",
    "id": "kKeJChIG3N5o",
    "outputId": "2195fc2c-2f5e-4870-dce4-a445ccd843a9"
   },
   "outputs": [
    {
     "name": "stdout",
     "output_type": "stream",
     "text": [
      "Model: \"sequential\"\n",
      "_________________________________________________________________\n",
      "Layer (type)                 Output Shape              Param #   \n",
      "=================================================================\n",
      "mobilenetv2_1.00_96 (Model)  (None, 3, 3, 1280)        2257984   \n",
      "_________________________________________________________________\n",
      "global_average_pooling2d_1 ( (None, 1280)              0         \n",
      "_________________________________________________________________\n",
      "dense (Dense)                (None, 10)                12810     \n",
      "=================================================================\n",
      "Total params: 2,270,794\n",
      "Trainable params: 12,810\n",
      "Non-trainable params: 2,257,984\n",
      "_________________________________________________________________\n",
      "None\n"
     ]
    }
   ],
   "source": [
    "# | load the pretrained model (include_top=False, removes the input layer and the last fully connected layer (classifier))\n",
    "base_model = keras.applications.MobileNetV2(input_shape=IMG_SHAPE + (3,), include_top=False, weights='imagenet')\n",
    "# base_model = keras.applications.VGG16(include_top=False, weights='imagenet', input_shape=(DIM,DIM,3), pooling=None, classes=1000)\n",
    "# base_model = keras.applications.ResNet50(include_top=False, weights='imagenet', input_shape=(DIM,DIM,3), pooling=None, classes=1000)\n",
    "# base_model = keras.applications.InceptionV3(include_top=False, weights='imagenet', input_shape=(DIM,DIM,3), pooling=None, classes=1000)\n",
    "\n",
    "# | freeze the weights\n",
    "if not FREEZE_NR_LAYERS:\n",
    "  base_model.trainable = False\n",
    "else:\n",
    "  for i in range(FREEZE_NR_LAYERS):\n",
    "      base_model.layers[i].trainable = False\n",
    "      print(base_model.layers[i])\n",
    "\n",
    "# | Create layers for classification head\n",
    "# global_average_layer = keras.layers.Flatten()\n",
    "global_average_layer = keras.layers.GlobalAveragePooling2D()\n",
    "prediction_layer = keras.layers.Dense(CLASSES)\n",
    "\n",
    "# | Create the model\n",
    "model = keras.Sequential([\n",
    "  base_model,\n",
    "  global_average_layer,\n",
    "  prediction_layer\n",
    "])\n",
    "\n",
    "# print(base_model.summary())\n",
    "print(model.summary())"
   ]
  },
  {
   "cell_type": "code",
   "execution_count": null,
   "metadata": {
    "colab": {
     "base_uri": "https://localhost:8080/",
     "height": 1937
    },
    "colab_type": "code",
    "id": "HWa3ylz03OZE",
    "outputId": "30c5b0a7-6152-4c52-f911-aef83f0a55ed"
   },
   "outputs": [],
   "source": [
    "# | create directories for tensorboard log_dir and model checkpoints\n",
    "ts = str(int(datetime.now().timestamp()))\n",
    "callbacks = []\n",
    "if TENSORBOARD:\n",
    "  # | start tensorboard with > tensorboard --logdir=./log\n",
    "  log_dir = './log/' + ts\n",
    "  if not os.path.exists(log_dir):\n",
    "      os.makedirs(log_dir)\n",
    "  tb_callback = keras.callbacks.TensorBoard(log_dir='.', update_freq='epoch')\n",
    "  callbacks.append(tb_callback)\n",
    "\n",
    "      \n",
    "if CHECKPOINTS:\n",
    "  checkpoint_dir = './checkpoints/' + ts\n",
    "  if not os.path.exists(checkpoint_dir):\n",
    "      os.makedirs(checkpoint_dir)\n",
    "  checkpoint_callback = keras.callbacks.ModelCheckpoint(checkpoint_dir + '/weights.{epoch:02d}-{val_loss:.2f}.h5')\n",
    "  callbacks.append(checkpoint_callback)\n",
    "\n",
    "# | Compile the model\n",
    "optimizer = 'adam'\n",
    "# optimizer = keras.optimizers.SGD(lr=1e-3, decay=1e-6, momentum=0.9, nesterov=True)\n",
    "\n",
    "model.compile(optimizer=optimizer,\n",
    "              loss='sparse_categorical_crossentropy',\n",
    "              metrics=['accuracy'])\n",
    "\n",
    "# | Training\n",
    "STEPS_PER_EPOCH = round(train_images.shape[0])//BATCH_SIZE\n",
    "VALIDATION_STEPS = 20\n",
    "\n",
    "history = model.fit(train_batches,\n",
    "                    epochs=EPOCHS,\n",
    "                    steps_per_epoch = STEPS_PER_EPOCH,\n",
    "                    validation_data=test_batches, \n",
    "                    validation_steps=VALIDATION_STEPS,\n",
    "                    callbacks=callbacks)"
   ]
  },
  {
   "cell_type": "code",
   "execution_count": null,
   "metadata": {
    "colab": {
     "base_uri": "https://localhost:8080/",
     "height": 513
    },
    "colab_type": "code",
    "id": "x0Nmx0t638Aq",
    "outputId": "1ce5b58e-5c00-423f-88a5-43eaa0ec73b5"
   },
   "outputs": [],
   "source": [
    "acc = history.history['accuracy']\n",
    "val_acc = history.history['val_accuracy']\n",
    "\n",
    "loss = history.history['loss']\n",
    "val_loss = history.history['val_loss']\n",
    "\n",
    "plt.figure(figsize=(8, 8))\n",
    "plt.subplot(2, 1, 1)\n",
    "plt.plot(acc, label='Training Accuracy')\n",
    "plt.plot(val_acc, label='Validation Accuracy')\n",
    "plt.legend(loc='lower right')\n",
    "plt.ylabel('Accuracy')\n",
    "plt.ylim([min(plt.ylim()),1])\n",
    "plt.title('Training and Validation Accuracy')\n",
    "\n",
    "plt.subplot(2, 1, 2)\n",
    "plt.plot(loss, label='Training Loss')\n",
    "plt.plot(val_loss, label='Validation Loss')\n",
    "plt.legend(loc='upper right')\n",
    "plt.ylabel('Cross Entropy')\n",
    "plt.title('Training and Validation Loss')\n",
    "plt.xlabel('epoch')\n",
    "plt.show()"
   ]
  }
 ],
 "metadata": {
  "accelerator": "GPU",
  "colab": {
   "collapsed_sections": [],
   "name": "MNIST_TransferLearning.ipynb",
   "provenance": [],
   "version": "0.3.2"
  },
  "kernelspec": {
   "display_name": "tf2",
   "language": "python",
   "name": "tf2"
  },
  "language_info": {
   "codemirror_mode": {
    "name": "ipython",
    "version": 3
   },
   "file_extension": ".py",
   "mimetype": "text/x-python",
   "name": "python",
   "nbconvert_exporter": "python",
   "pygments_lexer": "ipython3",
   "version": "3.7.1"
  }
 },
 "nbformat": 4,
 "nbformat_minor": 1
}
